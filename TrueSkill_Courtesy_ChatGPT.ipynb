{
 "cells": [
  {
   "cell_type": "code",
   "execution_count": 147,
   "metadata": {},
   "outputs": [],
   "source": [
    "import torch\n",
    "import pyro\n",
    "import pyro.distributions as dist\n",
    "from pyro.infer import SVI, Trace_ELBO\n",
    "from pyro.optim import Adam\n",
    "# guide\n",
    "from pyro.contrib.autoguide import AutoDiagonalNormal, AutoMultivariateNormal"
   ]
  },
  {
   "cell_type": "code",
   "execution_count": 149,
   "metadata": {},
   "outputs": [
    {
     "name": "stdout",
     "output_type": "stream",
     "text": [
      "Step 0: Loss = 51.66\n",
      "Step 100: Loss = 10.55\n",
      "Step 200: Loss = 25.12\n",
      "Step 300: Loss = 51.73\n",
      "Step 400: Loss = 38.07\n",
      "Step 500: Loss = 44.25\n",
      "Step 600: Loss = 50.26\n",
      "Step 700: Loss = 44.85\n",
      "Step 800: Loss = 35.38\n",
      "Step 900: Loss = 48.13\n",
      "{'skill_loc': tensor([89.0027, 85.2201, 88.3698, 84.0022, 80.9570], requires_grad=True), 'skill_scale': tensor([0.3517, 0.1540, 0.5880, 0.2010, 1.0358], requires_grad=True)}\n"
     ]
    }
   ],
   "source": [
    "perf_variance = 5.0\n",
    "\n",
    "def model(player_parameters, matches, outcomes=None):\n",
    "\n",
    "    skill_mu = player_parameters[0]\n",
    "    skill_sigma = player_parameters[1]\n",
    "\n",
    "    num_players = len(skill_mu)\n",
    "\n",
    "    with pyro.plate(\"players\", num_players):\n",
    "        skill = pyro.sample(\"skill\", dist.Normal(skill_mu, skill_sigma))\n",
    "\n",
    "    with pyro.plate(\"games\", num_games):\n",
    "\n",
    "        # Get player skills\n",
    "        player1_skill = skill[matches[:, 0]]\n",
    "        player2_skill = skill[matches[:, 1]]\n",
    "\n",
    "        # Sample performances\n",
    "        player1_performance = pyro.sample(\"perf1\", dist.Normal(player1_skill, perf_variance))\n",
    "        player2_performance = pyro.sample(\"perf2\", dist.Normal(player2_skill, perf_variance))\n",
    "\n",
    "        # Sample outcomes\n",
    "        result = pyro.sample(\"obs\", dist.Bernoulli(logits=player1_performance - player2_performance), obs=outcomes)\n",
    "\n",
    "    return result\n",
    "\n",
    "\n",
    "# Guide\n",
    "def guide(parameters, players, outcomes=None):\n",
    "\n",
    "    num_players = len(parameters[0])\n",
    "\n",
    "    skill_loc = pyro.param(\"skill_loc\", torch.zeros(num_players))\n",
    "    skill_scale = pyro.param(\"skill_scale\", torch.ones(num_players), constraint=dist.constraints.positive)\n",
    "\n",
    "    with pyro.plate(\"players\", num_players):\n",
    "        skill = pyro.sample(\"skill\", dist.Normal(skill_loc, skill_scale))\n",
    "\n",
    "    with pyro.plate(\"games\", num_games):\n",
    "\n",
    "        # Get player skills\n",
    "        player1_skill = skill[matches[:, 0]]\n",
    "        player2_skill = skill[matches[:, 1]]\n",
    "\n",
    "        # Sample performances\n",
    "        player1_performance = pyro.sample(\"perf1\", dist.Normal(player1_skill, perf_variance))\n",
    "        player2_performance = pyro.sample(\"perf2\", dist.Normal(player2_skill, perf_variance))\n",
    "\n",
    "\n",
    "num_games = 10\n",
    "num_players = 5\n",
    "\n",
    "players = torch.randint(0, num_players, (num_games, 2))\n",
    "outcomes = torch.ones(num_games)\n",
    "\n",
    "parameters = [torch.ones(num_players) * 100., torch.ones(num_players) * 25.]\n",
    "\n",
    "model(parameters, players)\n",
    "\n",
    "\n",
    "# Fit the model\n",
    "optim = Adam({\"lr\": 0.05})\n",
    "svi = SVI(model, guide, optim, loss=Trace_ELBO())\n",
    "\n",
    "for step in range(1000):\n",
    "    loss = svi.step(parameters, players, outcomes)\n",
    "    if step % 100 == 0:\n",
    "        print(\"Step {}: Loss = {:.2f}\".format(step, loss))\n",
    "\n",
    "print(pyro.get_param_store().get_state()['params'])\n"
   ]
  }
 ],
 "metadata": {
  "kernelspec": {
   "display_name": "Python 3",
   "language": "python",
   "name": "python3"
  },
  "language_info": {
   "codemirror_mode": {
    "name": "ipython",
    "version": 3
   },
   "file_extension": ".py",
   "mimetype": "text/x-python",
   "name": "python",
   "nbconvert_exporter": "python",
   "pygments_lexer": "ipython3",
   "version": "3.11.9"
  }
 },
 "nbformat": 4,
 "nbformat_minor": 2
}
