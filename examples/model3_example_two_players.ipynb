{
 "cells": [
  {
   "cell_type": "code",
   "execution_count": 1,
   "metadata": {},
   "outputs": [
    {
     "name": "stderr",
     "output_type": "stream",
     "text": [
      "/var/folders/bx/n7x8tlw17p9_m_8d4g08505w0000gn/T/ipykernel_6066/2758595007.py:1: DeprecationWarning: \n",
      "Pyarrow will become a required dependency of pandas in the next major release of pandas (pandas 3.0),\n",
      "(to allow more performant data types, such as the Arrow string type, and better interoperability with other libraries)\n",
      "but was not found to be installed on your system.\n",
      "If this would cause problems for you,\n",
      "please provide us feedback at https://github.com/pandas-dev/pandas/issues/54466\n",
      "        \n",
      "  import pandas as pd\n",
      "/Users/fluffysnail/Library/CloudStorage/OneDrive-Personal/dtu/current/42186_modelml/42186_venv/lib/python3.11/site-packages/tqdm/auto.py:21: TqdmWarning: IProgress not found. Please update jupyter and ipywidgets. See https://ipywidgets.readthedocs.io/en/stable/user_install.html\n",
      "  from .autonotebook import tqdm as notebook_tqdm\n"
     ]
    }
   ],
   "source": [
    "import pandas as pd\n",
    "import numpy as np\n",
    "import matplotlib.pyplot as plt\n",
    "# from paths import mkl_data\n",
    "import requests # API library\n",
    "\n",
    "import random\n",
    "import time\n",
    "import os\n",
    "\n",
    "from isoweek import Week\n",
    "\n",
    "import requests # API library\n",
    "\n",
    "import numpy as np\n",
    "import pandas as pd\n",
    "import json\n",
    "import re\n",
    "\n",
    "import torch\n",
    "import pyro\n",
    "import pyro.distributions as dist\n",
    "from pyro.contrib.autoguide import AutoDiagonalNormal, AutoMultivariateNormal\n",
    "from pyro.infer import MCMC, NUTS, HMC, SVI, Trace_ELBO\n",
    "from pyro.optim import Adam, ClippedAdam\n",
    "from pyro.infer import Predictive\n",
    "\n"
   ]
  },
  {
   "cell_type": "code",
   "execution_count": 2,
   "metadata": {},
   "outputs": [],
   "source": [
    "#Expects an observation from df\n",
    "def model2(obs):\n",
    "    hyper_sigma = 1/8\n",
    "    #\n",
    "    coach1_mu_skill = 0\n",
    "    coach1_sigma_skill = 1\n",
    "    coach1_skill = pyro.sample(\"coach1_skill\", dist.Normal(coach1_mu_skill, coach1_sigma_skill))\n",
    "    coach2_mu_skill = 0\n",
    "    coach2_sigma_skill = 1\n",
    "    coach2_skill = pyro.sample(\"coach2_skill\", dist.Normal(coach2_mu_skill, coach2_sigma_skill))\n",
    "    \n",
    "    with pyro.plate('matches', obs.shape[0]):   \n",
    "\n",
    "        coach1_perf = pyro.sample('coach1_perf', dist.Normal(coach1_skill, hyper_sigma))\n",
    "        coach2_perf = pyro.sample('coach2_perf', dist.Normal(coach2_skill, hyper_sigma))\n",
    "\n",
    "        perf_diff = coach1_perf - coach2_perf\n",
    "    \n",
    "        y = pyro.sample(\"y_coach1_win\", dist.Normal(perf_diff, hyper_sigma), obs=obs)\n",
    "\n",
    "    return y"
   ]
  },
  {
   "cell_type": "code",
   "execution_count": 4,
   "metadata": {},
   "outputs": [
    {
     "name": "stdout",
     "output_type": "stream",
     "text": [
      "Step 0 : loss = 297.0240622162819\n",
      "Step 100 : loss = -0.40923750400543213\n",
      "Step 200 : loss = -2.0924947261810303\n",
      "Step 300 : loss = 0.6893655061721802\n",
      "Step 400 : loss = -0.655463695526123\n",
      "Step 500 : loss = -0.818579912185669\n",
      "Step 600 : loss = 7.079321980476379\n",
      "Step 700 : loss = 5.716830134391785\n",
      "Step 800 : loss = 0.2787439823150635\n",
      "Step 900 : loss = 0.44478631019592285\n",
      "Step 1000 : loss = 1.3927888870239258\n",
      "Step 1100 : loss = 3.563556432723999\n",
      "Step 1200 : loss = 5.524590075016022\n",
      "Step 1300 : loss = 0.3623034954071045\n",
      "Step 1400 : loss = 3.315456986427307\n",
      "Step 1500 : loss = -0.33500826358795166\n",
      "Step 1600 : loss = 2.60115647315979\n",
      "Step 1700 : loss = 2.962277889251709\n",
      "Step 1800 : loss = 5.835680961608887\n",
      "Step 1900 : loss = 11.287555456161499\n",
      "Step 2000 : loss = -0.038440823554992676\n",
      "Step 2100 : loss = 4.057755351066589\n",
      "Step 2200 : loss = 2.1624810695648193\n",
      "Step 2300 : loss = 4.32693874835968\n",
      "Step 2400 : loss = 0.8838880062103271\n",
      "Step 2500 : loss = 0.592665433883667\n",
      "Step 2600 : loss = 0.9624444246292114\n",
      "Step 2700 : loss = 2.378968358039856\n",
      "Step 2800 : loss = 8.647850275039673\n",
      "Step 2900 : loss = 8.171811580657959\n",
      "Step 3000 : loss = 2.164317011833191\n",
      "Step 3100 : loss = 0.9852368235588074\n",
      "Step 3200 : loss = 3.670849561691284\n",
      "Step 3300 : loss = 3.606688618659973\n",
      "Step 3400 : loss = 5.42943012714386\n",
      "Step 3500 : loss = 4.250879526138306\n",
      "Step 3600 : loss = 9.034015536308289\n",
      "Step 3700 : loss = 3.1232558488845825\n",
      "Step 3800 : loss = 5.321895360946655\n",
      "Step 3900 : loss = 2.6255807876586914\n",
      "Step 4000 : loss = 3.810478448867798\n",
      "Step 4100 : loss = -1.2156718969345093\n",
      "Step 4200 : loss = -2.205259919166565\n",
      "Step 4300 : loss = 0.3872523307800293\n",
      "Step 4400 : loss = 6.4515663385391235\n",
      "Step 4500 : loss = 2.293376326560974\n",
      "Step 4600 : loss = 0.9342169761657715\n",
      "Step 4700 : loss = 3.1016790866851807\n",
      "Step 4800 : loss = 3.5343565940856934\n",
      "Step 4900 : loss = -1.9891002178192139\n"
     ]
    }
   ],
   "source": [
    "optimizer = Adam({\"lr\": 0.01})\n",
    "guide = AutoDiagonalNormal(model2)\n",
    "svi = SVI(model2, guide, optimizer, loss=Trace_ELBO())\n",
    "\n",
    "# Training loop\n",
    "num_steps = 5000\n",
    "#This is fake data, just show that the model can be trained\n",
    "obs = torch.tensor([1,1,1,1,1,1,1,1,1,1,1,1])\n",
    "for step in range(num_steps):    \n",
    "    #Feed in batches (e.g. batches of observations)\n",
    "    loss = svi.step(obs)\n",
    "    if step % 100 == 0:\n",
    "        print(f\"Step {step} : loss = {loss}\")\n",
    "\n",
    "\n"
   ]
  },
  {
   "cell_type": "code",
   "execution_count": 7,
   "metadata": {},
   "outputs": [],
   "source": [
    "from pyro.infer import Predictive\n",
    "\n",
    "#This is an example of inference after training\n",
    "predictive = Predictive(model2, guide=guide, num_samples=2000,\n",
    "                        return_sites=(\"coach1_skill\", \"coach2_skill\"))\n",
    "\n",
    "samples = predictive(obs)\n"
   ]
  },
  {
   "cell_type": "code",
   "execution_count": 8,
   "metadata": {},
   "outputs": [
    {
     "name": "stderr",
     "output_type": "stream",
     "text": [
      "/var/folders/bx/n7x8tlw17p9_m_8d4g08505w0000gn/T/ipykernel_6066/3397869349.py:10: MatplotlibDeprecationWarning: An artist whose label starts with an underscore was passed to legend(); such artists will no longer be ignored in the future.  To suppress this warning, explicitly filter out such artists, e.g. with `[art for art in artists if not art.get_label().startswith('_')]`.\n",
      "  plt.legend(\"c1_skill\", \"c2_skill\")\n",
      "/var/folders/bx/n7x8tlw17p9_m_8d4g08505w0000gn/T/ipykernel_6066/3397869349.py:10: UserWarning: Legend does not support handles for str instances.\n",
      "A proxy artist may be used instead.\n",
      "See: https://matplotlib.org/stable/users/explain/axes/legend_guide.html#controlling-the-legend-entries\n",
      "  plt.legend(\"c1_skill\", \"c2_skill\")\n"
     ]
    },
    {
     "data": {
      "image/png": "[encoded data removed]",
      "text/plain": [
       "<Figure size 640x480 with 1 Axes>"
      ]
     },
     "metadata": {},
     "output_type": "display_data"
    }
   ],
   "source": [
    "import seaborn as sns\n",
    "\n",
    "#Plotting the data\n",
    "coach1_skill_inf = samples[\"coach1_skill\"].detach().squeeze()\n",
    "coach2_skill_inf= samples[\"coach2_skill\"].detach().squeeze()\n",
    "\n",
    "sns.histplot(coach1_skill_inf, kde=True, alpha=0.2)\n",
    "sns.histplot(coach2_skill_inf, kde=True, alpha=0.2)\n",
    "\n",
    "plt.legend(\"c1_skill\", \"c2_skill\")\n",
    "plt.show()"
   ]
  }
 ],
 "metadata": {
  "kernelspec": {
   "display_name": "42186_venv",
   "language": "python",
   "name": "python3"
  },
  "language_info": {
   "codemirror_mode": {
    "name": "ipython",
    "version": 3
   },
   "file_extension": ".py",
   "mimetype": "text/x-python",
   "name": "python",
   "nbconvert_exporter": "python",
   "pygments_lexer": "ipython3",
   "version": "3.11.7"
  }
 },
 "nbformat": 4,
 "nbformat_minor": 2
}
