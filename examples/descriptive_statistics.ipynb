{
 "cells": [
  {
   "cell_type": "code",
   "execution_count": 2,
   "metadata": {},
   "outputs": [
    {
     "name": "stderr",
     "output_type": "stream",
     "text": [
      "/var/folders/bx/n7x8tlw17p9_m_8d4g08505w0000gn/T/ipykernel_2730/1326642811.py:1: DeprecationWarning: \n",
      "Pyarrow will become a required dependency of pandas in the next major release of pandas (pandas 3.0),\n",
      "(to allow more performant data types, such as the Arrow string type, and better interoperability with other libraries)\n",
      "but was not found to be installed on your system.\n",
      "If this would cause problems for you,\n",
      "please provide us feedback at https://github.com/pandas-dev/pandas/issues/54466\n",
      "        \n",
      "  import pandas as pd\n",
      "/Users/fluffysnail/Library/CloudStorage/OneDrive-Personal/dtu/current/42186_modelml/42186_venv/lib/python3.11/site-packages/tqdm/auto.py:21: TqdmWarning: IProgress not found. Please update jupyter and ipywidgets. See https://ipywidgets.readthedocs.io/en/stable/user_install.html\n",
      "  from .autonotebook import tqdm as notebook_tqdm\n"
     ]
    }
   ],
   "source": [
    "import pandas as pd\n",
    "import numpy as np\n",
    "import matplotlib.pyplot as plt\n",
    "# from paths import mkl_data\n",
    "import requests # API library\n",
    "\n",
    "import random\n",
    "import time\n",
    "import os\n",
    "\n",
    "from isoweek import Week\n",
    "\n",
    "import requests # API library\n",
    "\n",
    "import numpy as np\n",
    "import pandas as pd\n",
    "import json\n",
    "import re\n",
    "\n",
    "import pyro\n",
    "import pyro.distributions as dist\n",
    "from pyro.contrib.autoguide import AutoDiagonalNormal, AutoMultivariateNormal\n",
    "from pyro.infer import MCMC, NUTS, HMC, SVI, Trace_ELBO\n",
    "from pyro.optim import Adam, ClippedAdam\n",
    "from pyro.infer import Predictive\n",
    "\n",
    "import torch"
   ]
  },
  {
   "cell_type": "code",
   "execution_count": 5,
   "metadata": {},
   "outputs": [],
   "source": [
    "df_m1 = pd.read_csv('../df_matches_clean.csv')"
   ]
  },
  {
   "cell_type": "code",
   "execution_count": 6,
   "metadata": {},
   "outputs": [
    {
     "data": {
      "text/plain": [
       "array([0])"
      ]
     },
     "execution_count": 6,
     "metadata": {},
     "output_type": "execute_result"
    }
   ],
   "source": [
    "#Dataframe Checks\n",
    "\n",
    "#check if team wins are correct\n",
    "foo = df_m1['team1_win'] + df_m1['team2_win']\n",
    "foo.unique()"
   ]
  },
  {
   "cell_type": "code",
   "execution_count": 7,
   "metadata": {},
   "outputs": [],
   "source": [
    "#Examples of queries\n",
    "\n",
    "#Sort by date and time\n",
    "df_matches_sorted = df_m1.sort_values(by=['week_date', 'match_time'])\n",
    "\n",
    "#Get unique coach id's, winrate for each coach, and number of matches for each coach \n",
    "coach_id = pd.concat([df_m1['team1_coach_id'], df_m1['team2_coach_id']]).unique()\n",
    "coach_winrates = np.zeros(len(coach_id))\n",
    "coach_num_matches = np.zeros(len(coach_id))\n",
    "\n",
    "for id, coach_id in enumerate(coach_id):\n",
    "    coach1_df = df_m1[df_m1['team1_coach_id'] == coach_id]\n",
    "\n",
    "    coach_winrates[id] += 0.5 * (coach1_df[\"team1_win\"] == 0).sum()\n",
    "    coach_winrates[id] += (coach1_df[\"team1_win\"] == 1).sum()\n",
    "\n",
    "    coach2_df = df_m1[df_m1['team2_coach_id'] == coach_id]\n",
    "    coach_winrates[id] += 0.5 * (coach1_df[\"team2_win\"] == 0).sum()\n",
    "    coach_winrates[id] += (coach2_df[\"team2_win\"] == 1).sum()\n",
    "\n",
    "    coach_winrates[id] = coach_winrates[id] / (len(coach1_df) + len(coach2_df))\n",
    "    coach_num_matches[id] = len(coach1_df) + len(coach2_df)\n",
    "\n"
   ]
  },
  {
   "cell_type": "code",
   "execution_count": 8,
   "metadata": {},
   "outputs": [
    {
     "data": {
      "text/html": [
       "<div>\n",
       "<style scoped>\n",
       "    .dataframe tbody tr th:only-of-type {\n",
       "        vertical-align: middle;\n",
       "    }\n",
       "\n",
       "    .dataframe tbody tr th {\n",
       "        vertical-align: top;\n",
       "    }\n",
       "\n",
       "    .dataframe thead th {\n",
       "        text-align: right;\n",
       "    }\n",
       "</style>\n",
       "<table border=\"1\" class=\"dataframe\">\n",
       "  <thead>\n",
       "    <tr style=\"text-align: right;\">\n",
       "      <th></th>\n",
       "      <th>winrate</th>\n",
       "      <th>total_coaches</th>\n",
       "    </tr>\n",
       "  </thead>\n",
       "  <tbody>\n",
       "    <tr>\n",
       "      <th>count</th>\n",
       "      <td>4176.000000</td>\n",
       "      <td>4176.000000</td>\n",
       "    </tr>\n",
       "    <tr>\n",
       "      <th>mean</th>\n",
       "      <td>0.379445</td>\n",
       "      <td>45.590517</td>\n",
       "    </tr>\n",
       "    <tr>\n",
       "      <th>std</th>\n",
       "      <td>0.296530</td>\n",
       "      <td>109.717180</td>\n",
       "    </tr>\n",
       "    <tr>\n",
       "      <th>min</th>\n",
       "      <td>0.000000</td>\n",
       "      <td>1.000000</td>\n",
       "    </tr>\n",
       "    <tr>\n",
       "      <th>25%</th>\n",
       "      <td>0.111111</td>\n",
       "      <td>2.000000</td>\n",
       "    </tr>\n",
       "    <tr>\n",
       "      <th>50%</th>\n",
       "      <td>0.375000</td>\n",
       "      <td>9.000000</td>\n",
       "    </tr>\n",
       "    <tr>\n",
       "      <th>75%</th>\n",
       "      <td>0.571429</td>\n",
       "      <td>37.000000</td>\n",
       "    </tr>\n",
       "    <tr>\n",
       "      <th>max</th>\n",
       "      <td>1.000000</td>\n",
       "      <td>1412.000000</td>\n",
       "    </tr>\n",
       "  </tbody>\n",
       "</table>\n",
       "</div>"
      ],
      "text/plain": [
       "           winrate  total_coaches\n",
       "count  4176.000000    4176.000000\n",
       "mean      0.379445      45.590517\n",
       "std       0.296530     109.717180\n",
       "min       0.000000       1.000000\n",
       "25%       0.111111       2.000000\n",
       "50%       0.375000       9.000000\n",
       "75%       0.571429      37.000000\n",
       "max       1.000000    1412.000000"
      ]
     },
     "execution_count": 8,
     "metadata": {},
     "output_type": "execute_result"
    },
    {
     "data": {
      "image/png": "[encoded data removed]",
      "text/plain": [
       "<Figure size 1000x400 with 2 Axes>"
      ]
     },
     "metadata": {},
     "output_type": "display_data"
    }
   ],
   "source": [
    "#Simple statistics and histograms\n",
    "fig, axs = plt.subplots(1, 2, figsize=(10, 4))\n",
    "\n",
    "axs[0].hist(coach_winrates, bins=30, color='blue', alpha=0.7)\n",
    "axs[0].set_title('Histogram of winrates')\n",
    "axs[0].set_xlabel('Value')\n",
    "axs[0].set_ylabel('Coaches')\n",
    "\n",
    "\n",
    "# Plot histogram on the second subplot\n",
    "axs[1].hist(coach_num_matches, bins=70, color='green', alpha=0.7)\n",
    "axs[1].set_title('Histogram of matches')\n",
    "axs[1].set_xlabel('Value')\n",
    "axs[1].set_ylabel('Coaches')\n",
    "axs[1].set_xlim([0, 1300])\n",
    "\n",
    "# data = coach_num_matches[coach_winrates == 1]\n",
    "# data2 = coach_num_matches[coach_winrates == 0]\n",
    "\n",
    "df_descriptive = pd.DataFrame({'winrate': coach_winrates, 'total_coaches': coach_num_matches})\n",
    "df_descriptive.describe()"
   ]
  }
 ],
 "metadata": {
  "kernelspec": {
   "display_name": "42186_venv",
   "language": "python",
   "name": "python3"
  },
  "language_info": {
   "codemirror_mode": {
    "name": "ipython",
    "version": 3
   },
   "file_extension": ".py",
   "mimetype": "text/x-python",
   "name": "python",
   "nbconvert_exporter": "python",
   "pygments_lexer": "ipython3",
   "version": "3.11.7"
  }
 },
 "nbformat": 4,
 "nbformat_minor": 2
}
