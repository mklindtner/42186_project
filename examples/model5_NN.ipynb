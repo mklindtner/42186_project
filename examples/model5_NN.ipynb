{
 "cells": [
  {
   "cell_type": "code",
   "execution_count": 1,
   "metadata": {},
   "outputs": [],
   "source": [
    "import torch\n",
    "from torch import nn\n",
    "import pyro\n",
    "import pyro.distributions as dist\n",
    "from pyro.infer import SVI, Trace_ELBO, Predictive\n",
    "from pyro.optim import Adam\n",
    "from pyro.infer.autoguide import AutoDiagonalNormal"
   ]
  },
  {
   "cell_type": "code",
   "execution_count": null,
   "metadata": {},
   "outputs": [],
   "source": [
    "class RaceNet(nn.Module):\n",
    "    def __init__(self, input_dim, hidden_dim=3, output_dim=2):\n",
    "        super(RaceNet, self).__init__()\n",
    "\n",
    "        self.net = nn.Sequential(\n",
    "            nn.Linear(input_dim, hidden_dim),\n",
    "            nn.ReLU(),\n",
    "            nn.Linear(hidden_dim, output_dim)\n",
    "        )\n",
    "\n",
    "    def forward(self, races1, races2):\n",
    "\n",
    "        x = torch.cat((races1, races2), dim=1)\n",
    "\n",
    "        return self.net(x)"
   ]
  },
  {
   "cell_type": "code",
   "execution_count": null,
   "metadata": {},
   "outputs": [],
   "source": [
    "def model(obs, ids1, ids2, races1, races2, num_coaches):\n",
    "    \"\"\"\n",
    "    Inputs:\n",
    "        obs: obs: A 1D tensor of observed data. The length should be equal to the number of games played.\n",
    "             Represents the outcome of a game in the eyes of coach 1, i.e. coach 1 wins: obs = 1, coach 2 wins: obs = -1.\n",
    "        ids1: A 1D tensor of the same length as obs. Contains the index of the first coach in each game.\n",
    "        ids2: A 1D tensor of the same length as obs. Contains the index of the second coach in each game.\n",
    "        num_coaches: The number of coaches in the dataset.\n",
    "\n",
    "    Output: A 1D tensor of the same length as \"obs\". Represents a sample from difference in performance between the two coaches.\n",
    "    \"\"\"\n",
    "\n",
    "    hyper_sigma = 1/8\n",
    "    \n",
    "    coach_mu_skill = 0\n",
    "    coach_sigma_skill = 1\n",
    "\n",
    "    num_games = obs.shape[0]\n",
    "    num_races = len(races1[0])\n",
    "\n",
    "    NN = RaceNet(2*num_races)\n",
    "\n",
    "\n",
    "    # Sample skills for each coach using a plate for coaches\n",
    "    with pyro.plate('coaches', num_coaches):\n",
    "        coach_skills = pyro.sample(\"coach_skills\", dist.Normal(coach_mu_skill, coach_sigma_skill))\n",
    "    \n",
    "    with pyro.plate('matches', num_games):\n",
    "        # Gather the skills for the competing coaches in each match\n",
    "        coach1_skills = coach_skills[ids1]\n",
    "        coach2_skills = coach_skills[ids2]\n",
    "\n",
    "        # Get racial bias\n",
    "        biases = NN(races1, races2)\n",
    "        coach1_biases = biases[:, 0]\n",
    "        coach2_biases = biases[:, 1]\n",
    "\n",
    "        # Sample performances for the coaches in each match\n",
    "        coach1_perf = pyro.sample('coach1_perf', dist.Normal(coach1_skills - coach1_biases , hyper_sigma))\n",
    "        coach2_perf = pyro.sample('coach2_perf', dist.Normal(coach2_skills - coach2_biases, hyper_sigma))\n",
    "\n",
    "        # Compute the performance difference\n",
    "        perf_diff = coach1_perf - coach2_perf\n",
    "\n",
    "        # Sample the observed outcomes\n",
    "        y = pyro.sample(\"y_coach1_win\", dist.Normal(perf_diff, hyper_sigma), obs=obs)\n",
    "\n",
    "    return y"
   ]
  }
 ],
 "metadata": {
  "kernelspec": {
   "display_name": "Python 3",
   "language": "python",
   "name": "python3"
  },
  "language_info": {
   "codemirror_mode": {
    "name": "ipython",
    "version": 3
   },
   "file_extension": ".py",
   "mimetype": "text/x-python",
   "name": "python",
   "nbconvert_exporter": "python",
   "pygments_lexer": "ipython3",
   "version": "3.11.9"
  }
 },
 "nbformat": 4,
 "nbformat_minor": 2
}
