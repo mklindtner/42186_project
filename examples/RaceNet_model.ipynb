{
 "cells": [
  {
   "cell_type": "markdown",
   "metadata": {},
   "source": [
    "# Trueskill model with Neural Network adjusted performance\n",
    "\n",
    "## Notes\n",
    "\n",
    "This model assumes the following data structure:\n",
    "\n",
    "**params**: Dict with 2 keys:\n",
    "- \"mu\": NumPy array of mean skill values (num_players)\n",
    "- \"sigma\": NumPy array of standard deviation skill values (num_players)\n",
    "\n",
    "**game_info**: Dict with 4 keys:\n",
    "- \"player1\": NumPy array with the player1 ids (num_games)\n",
    "- \"race1\": NumPy array with one-hot-encoded race1 ids (num_games x num_races)\n",
    "- \"player2\": NumPy array with the player2 ids (num_games)\n",
    "- \"race2\": NumPy array with one-hot-encoded race2 ids (num_games x num_races)\n",
    "\n",
    "**result**: NumPy array with the outcome of the games (num_games)\n",
    "- -1: player1 wins\n",
    "- 0: draw\n",
    "- 1: player2 wins"
   ]
  },
  {
   "cell_type": "code",
   "execution_count": 1,
   "metadata": {},
   "outputs": [],
   "source": [
    "import torch\n",
    "from torch import nn\n",
    "import pyro\n",
    "import pyro.distributions as dist\n",
    "from pyro.infer import SVI, Trace_ELBO, Predictive\n",
    "from pyro.optim import Adam\n",
    "from pyro.infer.autoguide import AutoDiagonalNormal"
   ]
  },
  {
   "cell_type": "code",
   "execution_count": 2,
   "metadata": {},
   "outputs": [],
   "source": [
    "class RaceNet(nn.Module):\n",
    "    def __init__(self, input_dim, hidden_dim=3, output_dim=2):\n",
    "        super(RaceNet, self).__init__()\n",
    "\n",
    "        self.net = nn.Sequential(\n",
    "            nn.Linear(input_dim, hidden_dim),\n",
    "            nn.ReLU(),\n",
    "            nn.Linear(hidden_dim, hidden_dim),\n",
    "            nn.ReLU(),\n",
    "            nn.Linear(hidden_dim, output_dim)\n",
    "        )\n",
    "\n",
    "    def forward(self, x):\n",
    "\n",
    "        race1 = x[:, 0]\n",
    "        race2 = x[:, 1]\n",
    "        x = torch.cat((race1, race2), dim=1)\n",
    "\n",
    "        return self.net(x)"
   ]
  },
  {
   "cell_type": "code",
   "execution_count": 3,
   "metadata": {},
   "outputs": [],
   "source": [
    "def model(params, game_info, result=None, device='cpu'):\n",
    "\n",
    "    # Hyperparameters\n",
    "    performance_sigma = torch.tensor(5.0).to(device)\n",
    "    result_sigma = torch.tensor(1.0).to(device)\n",
    "    mu = torch.tensor(params['mu']).to(device)\n",
    "    sigma = torch.tensor(params['sigma']).to(device)\n",
    "\n",
    "    # Data\n",
    "    player1 = torch.tensor(game_info['player1'], dtype=int).to(device)\n",
    "    race1 = torch.tensor(game_info['race1'], dtype=torch.float32).to(device)\n",
    "    player2 = torch.tensor(game_info['player2'], dtype=int).to(device)\n",
    "    race2 = torch.tensor(game_info['race2'], dtype=torch.float32).to(device)\n",
    "\n",
    "    # Dimensions\n",
    "    N = len(mu) # Number of players\n",
    "    M = len(player1) # Number of games\n",
    "    R = len(race1[0]) # Number of races\n",
    "\n",
    "    # Neural network for racial performance bias\n",
    "    NN = RaceNet(2*R).to(device)\n",
    "\n",
    "    # Draw skill for each player\n",
    "    with pyro.plate('players', N):\n",
    "        skill = pyro.sample('skill', dist.Normal(mu, sigma))\n",
    "\n",
    "    # Loop over games\n",
    "    with pyro.plate('games', M):\n",
    "        # Get skill for each player\n",
    "        skill1 = skill[player1]\n",
    "        skill2 = skill[player2]\n",
    "        \n",
    "        # Get racial bias\n",
    "        bias = NN(torch.stack((race1, race2), dim=1))\n",
    "        bias1 = bias[:, 0]\n",
    "        bias2 = bias[:, 1]\n",
    "\n",
    "        # Draw performance\n",
    "        performance1 = pyro.sample('performance1', dist.Normal(skill1-bias1, performance_sigma))\n",
    "        performance2 = pyro.sample('performance2', dist.Normal(skill2-bias2, performance_sigma))\n",
    "\n",
    "        # Draw result\n",
    "        if result is not None:\n",
    "            result = torch.tensor(result, dtype=torch.float32).to(device)\n",
    "        outcome = pyro.sample('result', dist.Normal(performance2 - performance1, result_sigma), obs=result)\n",
    "        outcome = torch.sign(torch.round(outcome))\n",
    "\n",
    "    return outcome"
   ]
  },
  {
   "cell_type": "code",
   "execution_count": 4,
   "metadata": {},
   "outputs": [],
   "source": [
    "def train_loop(model, params, games, result, iters=1000, device='cpu'):\n",
    "    print(f\"Using device: {device}\")\n",
    "    svi = SVI(model, AutoDiagonalNormal(model), Adam({'lr': 0.03}), loss=Trace_ELBO())\n",
    "    for step in range(iters):\n",
    "        loss = svi.step(params, games, result=result, device=device)\n",
    "        if step % 100 == 0:\n",
    "            print('step', step, 'loss', loss)"
   ]
  },
  {
   "cell_type": "code",
   "execution_count": 5,
   "metadata": {},
   "outputs": [
    {
     "name": "stdout",
     "output_type": "stream",
     "text": [
      "Using device: cpu\n",
      "step 0 loss 26.19870662689209\n",
      "step 100 loss 15.711596250534058\n",
      "step 200 loss 10.984839677810669\n",
      "step 300 loss 10.48905897140503\n",
      "step 400 loss 11.659853458404541\n",
      "step 500 loss 12.114955425262451\n",
      "step 600 loss 11.892566919326782\n",
      "step 700 loss 12.781346321105957\n",
      "step 800 loss 11.42769742012024\n",
      "step 900 loss 11.348999500274658\n"
     ]
    }
   ],
   "source": [
    "# Run the model\n",
    "# device = 'cuda' if torch.cuda.is_available() else 'cpu'\n",
    "device = 'cpu'\n",
    "params = {'mu': [100., 100.], 'sigma': [20., 20.]}\n",
    "games = {'player1': [1, 0], 'race1': [[1, 0, 0],[0, 1, 0]], 'player2': [1, 0], 'race2': [[0, 0, 1],[1, 0, 0]]}\n",
    "result = [0, 1]\n",
    "train_loop(model, params, games, result, iters=1000, device=device)"
   ]
  }
 ],
 "metadata": {
  "kernelspec": {
   "display_name": "Python 3",
   "language": "python",
   "name": "python3"
  },
  "language_info": {
   "codemirror_mode": {
    "name": "ipython",
    "version": 3
   },
   "file_extension": ".py",
   "mimetype": "text/x-python",
   "name": "python",
   "nbconvert_exporter": "python",
   "pygments_lexer": "ipython3",
   "version": "3.12.2"
  }
 },
 "nbformat": 4,
 "nbformat_minor": 2
}
